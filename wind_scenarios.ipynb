{
 "cells": [
  {
   "cell_type": "markdown",
   "id": "3c57488f-a51e-4e18-9f23-c7265d13de69",
   "metadata": {
    "tags": []
   },
   "source": [
    "# wind scenarios\n",
    "\n",
    "1. Normal wind speed model + Normal turbulence model;\n",
    "2. Normal wind speed model + extreme turbulence model;\n",
    "3. extreme wind speed model + normal turbulence model;"
   ]
  },
  {
   "cell_type": "code",
   "execution_count": 1,
   "id": "f06c990c-f1a3-4d48-bea9-79a9b23a1f34",
   "metadata": {},
   "outputs": [],
   "source": [
    "import numpy as np\n",
    "from wind_load import Wind_load\n",
    "from params import Params\n",
    "import matplotlib.pyplot as plt"
   ]
  },
  {
   "cell_type": "code",
   "execution_count": 2,
   "id": "ff00fde2-9778-497b-b0f2-74bc82968778",
   "metadata": {},
   "outputs": [],
   "source": [
    "%load_ext autoreload\n",
    "%autoreload 2"
   ]
  },
  {
   "cell_type": "code",
   "execution_count": 3,
   "id": "6e9694f5-e84b-4bfb-bb4e-c46daf68c5b2",
   "metadata": {},
   "outputs": [],
   "source": [
    "params = Params()"
   ]
  },
  {
   "cell_type": "markdown",
   "id": "5cbb455d-1956-4272-82b6-bdf422e829e4",
   "metadata": {
    "jp-MarkdownHeadingCollapsed": true,
    "tags": []
   },
   "source": [
    "## Normal wind conditions"
   ]
  },
  {
   "cell_type": "code",
   "execution_count": null,
   "id": "59805b9f-c518-42aa-a451-489d9babbb89",
   "metadata": {},
   "outputs": [],
   "source": [
    "wl_nn = Wind_load(time=200, hyperparameters=params, V_hub=8.6, fs=5) "
   ]
  },
  {
   "cell_type": "code",
   "execution_count": null,
   "id": "0b630102-3cae-45da-b03f-2cc099cc6db0",
   "metadata": {},
   "outputs": [],
   "source": [
    "# mean and sigma for a i.i.d Gaussian distribution\n",
    "\n",
    "mean, sigma = wl_nn.get_wind_speed_z(wind_model='normal', turbulence_model='normal')"
   ]
  },
  {
   "cell_type": "code",
   "execution_count": null,
   "id": "106bac59-f344-4359-af9c-8806c683974e",
   "metadata": {},
   "outputs": [],
   "source": [
    "# mean"
   ]
  },
  {
   "cell_type": "code",
   "execution_count": null,
   "id": "365592a0-ce45-4e08-940d-05eb1c324103",
   "metadata": {},
   "outputs": [],
   "source": [
    "# for each height, there is a i.i.d Gaussian process "
   ]
  },
  {
   "cell_type": "code",
   "execution_count": null,
   "id": "d76f898f-0acc-464b-af1b-aa74ad3e262a",
   "metadata": {},
   "outputs": [],
   "source": [
    "ts_winds_z = wl_nn.get_wind_speed_series(mean, sigma)"
   ]
  },
  {
   "cell_type": "code",
   "execution_count": null,
   "id": "cd9dd367-b0d1-4903-b33b-0d4ed2f27753",
   "metadata": {},
   "outputs": [],
   "source": [
    "ts_winds_z.shape"
   ]
  },
  {
   "cell_type": "code",
   "execution_count": null,
   "id": "d2bf55fc-e88b-4bb2-b872-c0e755bc79a6",
   "metadata": {},
   "outputs": [],
   "source": [
    "wl_nn.plot_wind_speed_series(ts=ts_winds_z, node_index=-1)"
   ]
  },
  {
   "cell_type": "code",
   "execution_count": null,
   "id": "7923a8fb-e094-4b6c-ac2c-36162b86c6af",
   "metadata": {},
   "outputs": [],
   "source": [
    "wind_loads = wl_nn.get_wind_loads(wind_speed_series=ts_winds_z)"
   ]
  },
  {
   "cell_type": "code",
   "execution_count": null,
   "id": "fcc50fb9-04f3-4b48-b2bd-5e77555bcc88",
   "metadata": {},
   "outputs": [],
   "source": [
    "wind_loads.shape"
   ]
  },
  {
   "cell_type": "code",
   "execution_count": null,
   "id": "4d8c3461-bca2-4cf9-94e2-61e6a386ff1f",
   "metadata": {},
   "outputs": [],
   "source": [
    "wl_nn.plot_wind_loads(wind_loads=wind_loads, node_index=-1)"
   ]
  },
  {
   "cell_type": "code",
   "execution_count": null,
   "id": "5489e082-2d19-4be4-bf48-b496c49ca461",
   "metadata": {},
   "outputs": [],
   "source": [
    "wl_nn.save_wind_load_series(wind_loads)"
   ]
  },
  {
   "cell_type": "code",
   "execution_count": null,
   "id": "14ddc622-fe11-47a8-b83b-693e15f6182e",
   "metadata": {},
   "outputs": [],
   "source": []
  },
  {
   "cell_type": "code",
   "execution_count": null,
   "id": "34e798bc-63db-479e-b655-ef0ccb6ea41b",
   "metadata": {},
   "outputs": [],
   "source": []
  },
  {
   "cell_type": "markdown",
   "id": "7497cc5f-b508-4022-8be5-12b0f8311ea0",
   "metadata": {
    "tags": []
   },
   "source": [
    "## 6.2 scenario - `Extreme wind speed` + `Normal turbulence wind` = EN"
   ]
  },
  {
   "cell_type": "code",
   "execution_count": 4,
   "id": "ce18700a-6a24-4ce9-bcfe-3dabf21bd2f3",
   "metadata": {},
   "outputs": [],
   "source": [
    "# In the event of NTM case, Merhad said V_hub = 0.7 * V_ref\n",
    "\n",
    "wl_EN = Wind_load(time=100, hyperparameters=params, V_hub=params.V_ref, fs=1000) "
   ]
  },
  {
   "cell_type": "code",
   "execution_count": 5,
   "id": "255be694-e456-46c1-881d-c394ffc8367b",
   "metadata": {},
   "outputs": [],
   "source": [
    "# to test the average wind speed\n",
    "# 15 elements\n",
    "\n",
    "ave_ws_elements, sigma = wl_EN.get_wind_speed_z_interpolation(wind_model='extreme', turbulence_model='normal')"
   ]
  },
  {
   "cell_type": "code",
   "execution_count": 6,
   "id": "7fb0b76f-081a-4622-b47b-ee518f933c59",
   "metadata": {},
   "outputs": [
    {
     "data": {
      "text/plain": [
       "(15,)"
      ]
     },
     "execution_count": 6,
     "metadata": {},
     "output_type": "execute_result"
    }
   ],
   "source": [
    "ave_ws_elements.shape"
   ]
  },
  {
   "cell_type": "code",
   "execution_count": 7,
   "id": "ab767677-5f59-40e9-9146-3e1ef4cfaf09",
   "metadata": {},
   "outputs": [
    {
     "data": {
      "text/plain": [
       "array([55.22029016, 59.59529637, 62.31348237, 64.3169266 , 65.91517126,\n",
       "       66.39239567, 66.84338229, 67.27101717, 67.67772755, 68.06557487,\n",
       "       68.43632537, 68.79150428, 69.13243812, 69.46028803, 69.77607638])"
      ]
     },
     "execution_count": 7,
     "metadata": {},
     "output_type": "execute_result"
    }
   ],
   "source": [
    "# the element_average speed at each height\n",
    "ave_ws_elements"
   ]
  },
  {
   "cell_type": "code",
   "execution_count": 8,
   "id": "073f7699-d6be-41d9-9907-6c2bf286ad6e",
   "metadata": {},
   "outputs": [],
   "source": [
    "# params.cross_sec_area.shape"
   ]
  },
  {
   "cell_type": "code",
   "execution_count": 9,
   "id": "5cc94987-d4bb-4fb2-af86-05f348a50d6e",
   "metadata": {},
   "outputs": [],
   "source": [
    "# # the wind speed time series at height z\n",
    "\n",
    "winds_series_avespeed = wl_EN.get_wind_speed_series(ave_ws_elements, sigma)"
   ]
  },
  {
   "cell_type": "code",
   "execution_count": 10,
   "id": "106e1f9d-8040-4e0a-8404-980d752fe2a9",
   "metadata": {},
   "outputs": [
    {
     "data": {
      "text/plain": [
       "(15, 100000)"
      ]
     },
     "execution_count": 10,
     "metadata": {},
     "output_type": "execute_result"
    }
   ],
   "source": [
    "winds_series_avespeed.shape"
   ]
  },
  {
   "cell_type": "code",
   "execution_count": 11,
   "id": "a026a689-1691-4e03-b2c0-b50de7bc49ae",
   "metadata": {},
   "outputs": [],
   "source": [
    "# compute the load for the rotor at the hub\n",
    "F_hub = wl_EN.cp_wind_loads_F_hub(sigma=sigma)"
   ]
  },
  {
   "cell_type": "code",
   "execution_count": 12,
   "id": "ff0a64d6-592c-41a4-adea-84db66b53087",
   "metadata": {},
   "outputs": [
    {
     "data": {
      "text/plain": [
       "array([2098025.73653869, 1189229.88894637, 1128859.02137895, ...,\n",
       "       1579385.40950211,  897963.44227951, 1595059.02195754])"
      ]
     },
     "execution_count": 12,
     "metadata": {},
     "output_type": "execute_result"
    }
   ],
   "source": [
    "F_hub"
   ]
  },
  {
   "cell_type": "markdown",
   "id": "765ef6f2-2c73-49ff-87a2-0ce42001f8d8",
   "metadata": {},
   "source": [
    "**directly save the 1d time series**"
   ]
  },
  {
   "cell_type": "code",
   "execution_count": 13,
   "id": "8f6f3470-799e-4bba-a362-c7cd47ded5e1",
   "metadata": {},
   "outputs": [],
   "source": [
    "wl_EN.save_wind_load_series(ts=F_hub, name='load_nodal_hub', style='ignore')"
   ]
  },
  {
   "cell_type": "code",
   "execution_count": 19,
   "id": "9095de2f-7583-4884-8f19-5cbc47d81d50",
   "metadata": {},
   "outputs": [
    {
     "data": {
      "image/png": "[encoded data removed]",
      "text/plain": [
       "<Figure size 1000x300 with 1 Axes>"
      ]
     },
     "metadata": {},
     "output_type": "display_data"
    }
   ],
   "source": [
    "# plot the wind speed series at the highest node\n",
    "\n",
    "wl_EN.plot_wind_speed_series(winds_series_avespeed, node_index=-1)"
   ]
  },
  {
   "cell_type": "code",
   "execution_count": 15,
   "id": "bbe252da-7371-418d-aa50-6b025526c943",
   "metadata": {},
   "outputs": [],
   "source": [
    "# previous ways of computing drag force `f`\n",
    "\n",
    "ft = wl_EN.cp_dragforce_f(wind_speed_series=winds_series_avespeed)"
   ]
  },
  {
   "cell_type": "code",
   "execution_count": 16,
   "id": "e7e43b22-dfa2-41fc-a81c-28b73617f686",
   "metadata": {},
   "outputs": [
    {
     "data": {
      "text/plain": [
       "(15, 100000)"
      ]
     },
     "execution_count": 16,
     "metadata": {},
     "output_type": "execute_result"
    }
   ],
   "source": [
    "ft.shape"
   ]
  },
  {
   "cell_type": "code",
   "execution_count": 17,
   "id": "a173d299-4d4f-41d0-9b38-c79c8f8f8063",
   "metadata": {},
   "outputs": [
    {
     "data": {
      "text/plain": [
       "array([43936.78541228, 36913.74839283, 32044.65202243, ...,\n",
       "       25950.31519697, 39969.04055371, 31639.51747682])"
      ]
     },
     "execution_count": 17,
     "metadata": {},
     "output_type": "execute_result"
    }
   ],
   "source": [
    "ft[0]"
   ]
  },
  {
   "cell_type": "code",
   "execution_count": 18,
   "id": "dad1499b-a134-4ecb-9302-68fdbba89d7f",
   "metadata": {},
   "outputs": [],
   "source": [
    "# save it to Francesca\n",
    "wl_EN.save_wind_load_series(ts=ft, name='load_elements', style='Francesca')"
   ]
  },
  {
   "cell_type": "code",
   "execution_count": null,
   "id": "717e68b7-44b5-4bc8-a8e3-253a56127582",
   "metadata": {},
   "outputs": [],
   "source": []
  },
  {
   "cell_type": "code",
   "execution_count": 20,
   "id": "f909b3c6-4d34-48a6-afdd-e4ab8a74e11e",
   "metadata": {},
   "outputs": [
    {
     "data": {
      "text/plain": [
       "array([35.742  , 35.742  , 35.742  , 35.742  , 35.742  , 11.85324,\n",
       "       11.33412, 10.815  , 10.29588,  9.77676,  9.2288 ,  8.70968,\n",
       "        8.19056,  7.67144,  7.15232])"
      ]
     },
     "execution_count": 20,
     "metadata": {},
     "output_type": "execute_result"
    }
   ],
   "source": [
    "params.cross_sec_area"
   ]
  },
  {
   "cell_type": "code",
   "execution_count": null,
   "id": "036d1797-2ad7-41ef-88f2-2e89da22ca46",
   "metadata": {},
   "outputs": [],
   "source": []
  },
  {
   "cell_type": "code",
   "execution_count": null,
   "id": "5c536100-f0f6-4975-b600-027430a70526",
   "metadata": {},
   "outputs": [],
   "source": []
  }
 ],
 "metadata": {
  "kernelspec": {
   "display_name": "Python 3 (ipykernel)",
   "language": "python",
   "name": "python3"
  },
  "language_info": {
   "codemirror_mode": {
    "name": "ipython",
    "version": 3
   },
   "file_extension": ".py",
   "mimetype": "text/x-python",
   "name": "python",
   "nbconvert_exporter": "python",
   "pygments_lexer": "ipython3",
   "version": "3.8.13"
  }
 },
 "nbformat": 4,
 "nbformat_minor": 5
}
