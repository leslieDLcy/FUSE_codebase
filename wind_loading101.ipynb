{
 "cells": [
  {
   "cell_type": "code",
   "execution_count": 1,
   "id": "21d88bdf-9b01-4dc2-af6c-3968090ec701",
   "metadata": {},
   "outputs": [],
   "source": [
    "import numpy as np\n",
    "from wind_load import Wind_load\n",
    "from params import Params\n",
    "import matplotlib.pyplot as plt"
   ]
  },
  {
   "cell_type": "code",
   "execution_count": 2,
   "id": "73043694-8471-4816-96ab-7993891bea49",
   "metadata": {},
   "outputs": [],
   "source": [
    "%load_ext autoreload\n",
    "%autoreload 2"
   ]
  },
  {
   "cell_type": "code",
   "execution_count": 3,
   "id": "08af85eb-5b0b-4941-9022-d4a00bc93b92",
   "metadata": {},
   "outputs": [],
   "source": [
    "params = Params()"
   ]
  },
  {
   "cell_type": "markdown",
   "id": "6f3c2064-bd93-434b-a597-bcf68e7496d8",
   "metadata": {
    "tags": []
   },
   "source": [
    "# Nomenclature\n",
    "\n",
    "$V_{ref}$: the reference wind speed averaged over 10mins at hub height; (determined in code by wind turbine class)\n",
    "\n",
    "$V_{ave}$: annual average wind speed at hub height; (by code $V_{ave} = 0.2 \\times V_{ref}$)\n",
    "\n",
    "$V_{e50}$: the steady wind extreme wind model, The **extreme wind speed** $V_{e50}$, with a recurrence period of 50 years, as a function of height\n",
    "\n",
    "\n",
    "$V_{hub}$: wind speed at hub height;"
   ]
  },
  {
   "cell_type": "markdown",
   "id": "07efddc1-2c23-495f-94b9-3af6b73e727e",
   "metadata": {
    "jp-MarkdownHeadingCollapsed": true,
    "tags": []
   },
   "source": [
    "### illustration of the `Normal wind model`\n"
   ]
  },
  {
   "cell_type": "markdown",
   "id": "fef625d2-9504-43ae-a13a-b04e15745e0b",
   "metadata": {
    "tags": []
   },
   "source": [
    "#### the normal wind profile model of height\n",
    "\n",
    "The wind profile $V(z)$ denotes the average wind speed as a function of heigh, $z$, as given by:\n",
    "\n",
    "$$\n",
    "V(z) = V_{hub} (\\frac{z}{z_{hub}})^{0.2}\n",
    "$$"
   ]
  },
  {
   "cell_type": "code",
   "execution_count": null,
   "id": "be2baa22-16f9-4302-bc96-faddf6a92eaa",
   "metadata": {
    "tags": []
   },
   "outputs": [],
   "source": [
    "z_hub = 80"
   ]
  },
  {
   "cell_type": "code",
   "execution_count": null,
   "id": "85e45ad4-9888-4601-bea1-e07516d14297",
   "metadata": {
    "tags": []
   },
   "outputs": [],
   "source": [
    "z = np.arange(0, z_hub+1, 1)"
   ]
  },
  {
   "cell_type": "code",
   "execution_count": null,
   "id": "a4e563fb-2e0f-4ea9-a1a3-e3af1106f8a3",
   "metadata": {
    "tags": []
   },
   "outputs": [],
   "source": [
    "# *TODO: the equation to determine V_hub\n",
    "V_hub = 30"
   ]
  },
  {
   "cell_type": "code",
   "execution_count": null,
   "id": "20a1741c-a5c7-4bac-ac9f-1cf4b23efe6c",
   "metadata": {
    "tags": []
   },
   "outputs": [],
   "source": [
    "V_z = V_hub * (z / z_hub)**0.2"
   ]
  },
  {
   "cell_type": "code",
   "execution_count": null,
   "id": "9e22ad83-8896-49f1-a2f6-60b10ada1abd",
   "metadata": {
    "tags": []
   },
   "outputs": [],
   "source": [
    "V_z"
   ]
  },
  {
   "cell_type": "markdown",
   "id": "ad22fd8b-71ba-45fd-acaa-bcdc94a9a2c2",
   "metadata": {
    "tags": []
   },
   "source": [
    "#### the CDF of wind speed distribution\n",
    "\n",
    "we first try with the Rayleigh distribution whose CDF is given as:\n",
    "\n",
    "$$\n",
    "P(V_{0}) = 1 - e^{[ - \\pi (V_{0}/2 V_{ave})^2 ]}\n",
    "$$"
   ]
  },
  {
   "cell_type": "code",
   "execution_count": null,
   "id": "16818fbc-5262-470f-ad7b-fcea4cebd0f4",
   "metadata": {
    "tags": []
   },
   "outputs": [],
   "source": [
    "v0 = np.linspace(0, 50, 1000)"
   ]
  },
  {
   "cell_type": "code",
   "execution_count": null,
   "id": "93b15f9c-ba19-4295-9d07-be987eb7dedc",
   "metadata": {
    "tags": []
   },
   "outputs": [],
   "source": [
    "# the V_{ave} parameter\n",
    "V_ave = 8.9"
   ]
  },
  {
   "cell_type": "code",
   "execution_count": null,
   "id": "fbdb7d52-343d-4c0f-8c0c-d2385d8a20d7",
   "metadata": {
    "tags": []
   },
   "outputs": [],
   "source": [
    "cdf = 1 - np.exp(- np.pi * (v0 / (2 * V_ave))**2)"
   ]
  },
  {
   "cell_type": "code",
   "execution_count": null,
   "id": "2c07e8bd-8fac-464e-af5f-f8d9a60752d0",
   "metadata": {
    "tags": []
   },
   "outputs": [],
   "source": [
    "fig, ax = plt.subplots()\n",
    "ax.plot(v0, cdf)\n",
    "ax.set_title('Rayleigh distribution for wind speed')\n",
    "ax.set_xlabel('wind velocity')\n",
    "ax.set_ylabel('CDF')"
   ]
  },
  {
   "cell_type": "code",
   "execution_count": null,
   "id": "83b14cbb-98fb-418b-bcbd-99af9703ec91",
   "metadata": {},
   "outputs": [],
   "source": [
    "cdf.shape"
   ]
  },
  {
   "cell_type": "markdown",
   "id": "a8e36447-f19c-4f3a-bba9-d0b700a47df5",
   "metadata": {
    "tags": []
   },
   "source": [
    "#### sampling"
   ]
  },
  {
   "cell_type": "code",
   "execution_count": null,
   "id": "4a1720a5-e2c4-4cc1-9d34-df73581dc429",
   "metadata": {},
   "outputs": [],
   "source": [
    "u = np.random.uniform(low=0, high=1, size=10000)"
   ]
  },
  {
   "cell_type": "code",
   "execution_count": null,
   "id": "b9cfcec0-b1c2-43a4-a7e1-b94461d5b27c",
   "metadata": {},
   "outputs": [],
   "source": [
    "# u is the Uniform random variable\n",
    "# write down the quantifle function (inverse of cdf)\n",
    "samples = np.sqrt(- (4 * V_ave**2 / np.pi ) * np.log(1 - u))"
   ]
  },
  {
   "cell_type": "code",
   "execution_count": null,
   "id": "c67f19cc-c235-41cb-9a7d-a9449f76be9f",
   "metadata": {},
   "outputs": [],
   "source": [
    "samples.shape"
   ]
  },
  {
   "cell_type": "code",
   "execution_count": null,
   "id": "129304ef-7517-4a9b-9944-4674db0bba24",
   "metadata": {},
   "outputs": [],
   "source": [
    "fig, ax = plt.subplots()\n",
    "ax.hist(samples)"
   ]
  },
  {
   "cell_type": "markdown",
   "id": "c882967d-7356-4ca2-9641-38c8286d3c8c",
   "metadata": {
    "tags": []
   },
   "source": [
    "### Illustration of the `Normal turbulence model`\n",
    "\n",
    "$$\n",
    "\\sigma_{1} = I_{ref} (0.75 V_{hub} + 5.6)\n",
    "$$"
   ]
  },
  {
   "cell_type": "code",
   "execution_count": null,
   "id": "97a8c05f-e895-466f-9c1c-7feeaf3a47f7",
   "metadata": {},
   "outputs": [],
   "source": [
    "# for class 2A\n",
    "Iref = 0.16"
   ]
  },
  {
   "cell_type": "code",
   "execution_count": null,
   "id": "b6f9ad56-0178-4965-bfe7-e8cc2c78f2cb",
   "metadata": {},
   "outputs": [],
   "source": [
    "# example plot\n",
    "Vhub = np.linspace(0, 30, 100)\n",
    "sigma1 = Iref * (0.75 * Vhub + 5.6)"
   ]
  },
  {
   "cell_type": "code",
   "execution_count": null,
   "id": "1d1161f0-c531-43a8-b11e-a44d4af1ae44",
   "metadata": {},
   "outputs": [],
   "source": [
    "fig, ax = plt.subplots()\n",
    "ax.plot(Vhub, sigma1)\n",
    "ax.set_xlabel(r'$V_{hub}$')\n",
    "ax.set_ylabel(r'$\\sigma_{1}$')\n",
    "ax.set_title('Turbulence standard deviation for the normal turbulence model')"
   ]
  },
  {
   "cell_type": "markdown",
   "id": "a6c4e801-4eaa-490a-9525-6d06e5486f45",
   "metadata": {
    "tags": []
   },
   "source": [
    "### Illustration of the `Extrme wind speed model`\n",
    "\n",
    "The Extrme wind speed model shall be either a steady or a turbulent wind model (with the difference of a scaling factor 1.4).\n",
    "The wind models shall be based on the reference wind speed $V_ref$ and a fixed turbulence standard deviation $\\sigma_{1}$. For the steady wind extreme wind model, The **extreme wind speed** $V_{e50}$, with a recurrence period of 50 years, as a function of height $z$, is given by:\n",
    "\n",
    "$$\n",
    "V_{e50}(z) = 1.4 V_{ref} (\\frac{z}{z_{hub}})^{0.11}\n",
    "$$"
   ]
  },
  {
   "cell_type": "code",
   "execution_count": 8,
   "id": "44ac3fea-3cc5-4a54-8084-8b114e5549b8",
   "metadata": {},
   "outputs": [],
   "source": [
    "V_ref = params.V_ref"
   ]
  },
  {
   "cell_type": "code",
   "execution_count": 9,
   "id": "7254fcfa-f089-469c-a831-bee4a857f507",
   "metadata": {},
   "outputs": [],
   "source": [
    "z = params.z "
   ]
  },
  {
   "cell_type": "code",
   "execution_count": 10,
   "id": "451eb6f5-8b04-4a35-897b-172344b8a193",
   "metadata": {},
   "outputs": [],
   "source": [
    "z_hub = params.z_hub"
   ]
  },
  {
   "cell_type": "code",
   "execution_count": 11,
   "id": "9f10cd0f-3485-436b-8b24-3d9533645e7a",
   "metadata": {},
   "outputs": [],
   "source": [
    "V_e50_z = 1.4 * V_ref * (z / z_hub)**0.11"
   ]
  },
  {
   "cell_type": "code",
   "execution_count": 12,
   "id": "26663fd4-32da-4a2f-b6b4-dc2fd926d771",
   "metadata": {},
   "outputs": [
    {
     "data": {
      "text/plain": [
       "array([55.22029016, 59.59529637, 62.31348237, 64.3169266 , 65.91517126,\n",
       "       66.39239567, 66.84338229, 67.27101717, 67.67772755, 68.06557487,\n",
       "       68.43632537, 68.79150428, 69.13243812, 69.46028803, 69.77607638])"
      ]
     },
     "execution_count": 12,
     "metadata": {},
     "output_type": "execute_result"
    }
   ],
   "source": [
    "V_e50_z"
   ]
  },
  {
   "cell_type": "code",
   "execution_count": 18,
   "id": "3d6b45ef-0bd3-4ebd-94fe-808fe7df3462",
   "metadata": {},
   "outputs": [
    {
     "data": {
      "text/plain": [
       "Text(0.5, 0, 'height (m)')"
      ]
     },
     "execution_count": 18,
     "metadata": {},
     "output_type": "execute_result"
    },
    {
     "data": {
      "image/png": "[encoded data removed]",
      "text/plain": [
       "<Figure size 640x480 with 1 Axes>"
      ]
     },
     "metadata": {},
     "output_type": "display_data"
    }
   ],
   "source": [
    "fig, ax = plt.subplots()\n",
    "ax.plot(z, V_e50_z, 'b:o')\n",
    "ax.set_ylabel('wind speed (m/s)')\n",
    "ax.set_xlabel('height (m)')"
   ]
  },
  {
   "cell_type": "code",
   "execution_count": null,
   "id": "b110104d-5c6b-4663-9edf-17a32d5ffc2d",
   "metadata": {},
   "outputs": [],
   "source": []
  },
  {
   "cell_type": "markdown",
   "id": "9b2d266c-0528-4b43-890c-dbeefe0d30b8",
   "metadata": {
    "jp-MarkdownHeadingCollapsed": true,
    "tags": []
   },
   "source": [
    "### Illustration of the `Extrme turbulence model`\n",
    "\n",
    "The extreme turbulence model shall use **the normal wind profile model** and turbulence with longitudinal component std given by:\n",
    "\n",
    "$$\n",
    "\\sigma_{1} = c \\times I_{ref} \\Bigg[ 0.072(\\frac{V_{ave}}{c} + 3) (\\frac{V_{hub}}{c} - 4) + 10  \\Bigg]\n",
    "$$\n",
    "\n",
    "where $c=2$"
   ]
  },
  {
   "cell_type": "code",
   "execution_count": null,
   "id": "fbe5e68f-37cf-4abb-98d2-063491dd8baf",
   "metadata": {},
   "outputs": [],
   "source": [
    "c=2"
   ]
  },
  {
   "cell_type": "code",
   "execution_count": null,
   "id": "f8a8756f-66f2-4517-8781-6d43551a8768",
   "metadata": {},
   "outputs": [],
   "source": [
    "sigma_1_extreme = 2 * Iref * (0.072 * (V_ave/c + 3) * (V_hub/c -4) + 10)"
   ]
  },
  {
   "cell_type": "code",
   "execution_count": null,
   "id": "111f7f69-e89d-45a4-bd77-f03c95ba6610",
   "metadata": {},
   "outputs": [],
   "source": [
    "sigma_1_extreme"
   ]
  },
  {
   "cell_type": "code",
   "execution_count": null,
   "id": "22e7ab36-5bea-4916-ac80-6ea95eea4828",
   "metadata": {},
   "outputs": [],
   "source": []
  },
  {
   "cell_type": "markdown",
   "id": "adc7f59f-3d0c-4d84-8294-80ef28e10d63",
   "metadata": {},
   "source": [
    "### Illustration of the parametrisation of $V_{hub}$"
   ]
  },
  {
   "cell_type": "markdown",
   "id": "cc8d17eb-97b8-4fb4-9b37-3286de523d88",
   "metadata": {},
   "source": [
    "$$\n",
    "V_{10} = V_{hh} \\times \\frac{\\ln(10/0.05)}{\\ln ({hh/0.05})}   \n",
    "$$\n"
   ]
  },
  {
   "cell_type": "code",
   "execution_count": null,
   "id": "61377b37-a1b0-474d-bb46-4a40ba0febed",
   "metadata": {},
   "outputs": [],
   "source": []
  },
  {
   "cell_type": "markdown",
   "id": "e4bac545-dbf7-45ac-93e6-f92a8c37a7a3",
   "metadata": {
    "jp-MarkdownHeadingCollapsed": true,
    "tags": []
   },
   "source": [
    "# questions\n",
    "\n",
    "- [ ] how to determine $V_{hub}$"
   ]
  },
  {
   "cell_type": "code",
   "execution_count": null,
   "id": "ae8bf51d-4dfb-4ee8-8865-bf662899e8ec",
   "metadata": {},
   "outputs": [],
   "source": []
  },
  {
   "cell_type": "code",
   "execution_count": null,
   "id": "13bb8c62-c3bb-4e0e-a436-aad69040d98c",
   "metadata": {},
   "outputs": [],
   "source": []
  },
  {
   "cell_type": "markdown",
   "id": "3c106598-1077-4dc1-a18d-152ce40e8dbb",
   "metadata": {
    "jp-MarkdownHeadingCollapsed": true,
    "tags": []
   },
   "source": [
    "# other stuff\n",
    "\n",
    "\n",
    "tips:\n",
    "\n",
    "We have 11 nodes with wind speed calculated, therefore, we need 12 area and height for computing delta height"
   ]
  },
  {
   "cell_type": "code",
   "execution_count": null,
   "id": "14979590-d4de-4b3c-90cd-bf483e0b4105",
   "metadata": {},
   "outputs": [],
   "source": []
  },
  {
   "cell_type": "code",
   "execution_count": null,
   "id": "6b47df48-4eca-409b-91c4-3c077da35d26",
   "metadata": {},
   "outputs": [],
   "source": [
    "def moving_average(x, w):\n",
    "    return np.convolve(x, np.ones(w), 'valid') / w"
   ]
  },
  {
   "cell_type": "code",
   "execution_count": null,
   "id": "cb82fc09-1937-43ca-bdf2-65c13c02c2ca",
   "metadata": {},
   "outputs": [],
   "source": [
    "# plus 1 at the end\n",
    "\n",
    "area_com = np.array([0.496861728, 0.295312851, 0.282306657, 0.269300464, 0.25629427, 0.243288077, 0.229559317, 0.216553123, 0.20354693, 0.190540736, 0.177534542, 0.177534542])"
   ]
  },
  {
   "cell_type": "code",
   "execution_count": null,
   "id": "960857ac-4280-48df-90f8-803c80a98f7e",
   "metadata": {},
   "outputs": [],
   "source": [
    "area_com.shape"
   ]
  },
  {
   "cell_type": "code",
   "execution_count": null,
   "id": "65ce2aa6-1255-440e-9df8-66c73cbdb963",
   "metadata": {},
   "outputs": [],
   "source": [
    "area_ave = moving_average(area_com, 2)"
   ]
  },
  {
   "cell_type": "code",
   "execution_count": null,
   "id": "530e15d7-a6ea-4a9c-82cd-f406c0e2628c",
   "metadata": {},
   "outputs": [],
   "source": [
    "area_ave"
   ]
  },
  {
   "cell_type": "code",
   "execution_count": null,
   "id": "536b88d2-db89-4c09-981d-e56b1c55286f",
   "metadata": {},
   "outputs": [],
   "source": [
    "area_ave.shape"
   ]
  },
  {
   "cell_type": "code",
   "execution_count": null,
   "id": "e258d80f-5e46-4623-aebd-a238b149cb5c",
   "metadata": {},
   "outputs": [],
   "source": [
    "# plus one height of the hub and one zero at the front.\n",
    "\n",
    "heighs_com = np.array([0, 42.55, 45.434, 48.318, 51.202, 54.086, 56.97, 59.854, 62.738, 65.622, 68.506, 71.39, 75.3])"
   ]
  },
  {
   "cell_type": "code",
   "execution_count": null,
   "id": "886cbc76-3dfb-408d-9ef0-988ac1cf0454",
   "metadata": {},
   "outputs": [],
   "source": [
    "heighs_com.shape"
   ]
  },
  {
   "cell_type": "code",
   "execution_count": null,
   "id": "97ed67d6-153b-4412-8fd0-7a67e4f5db1a",
   "metadata": {},
   "outputs": [],
   "source": [
    "middle_h = moving_average(heighs_com, 2)"
   ]
  },
  {
   "cell_type": "code",
   "execution_count": null,
   "id": "b1338620-0811-4ec8-86e2-785bf303efd1",
   "metadata": {},
   "outputs": [],
   "source": [
    "middle_h.shape"
   ]
  },
  {
   "cell_type": "code",
   "execution_count": null,
   "id": "81d1c2ee-bf25-4689-b627-67f21e85c958",
   "metadata": {},
   "outputs": [],
   "source": [
    "middle_h"
   ]
  },
  {
   "cell_type": "code",
   "execution_count": null,
   "id": "d8a28689-ffbf-48e4-84fb-7395efcc2706",
   "metadata": {},
   "outputs": [],
   "source": [
    "delta_h = np.diff(middle_h)"
   ]
  },
  {
   "cell_type": "code",
   "execution_count": null,
   "id": "58d4b113-16e1-48d8-92eb-64ced302d80f",
   "metadata": {},
   "outputs": [],
   "source": [
    "delta_h.shape"
   ]
  },
  {
   "cell_type": "code",
   "execution_count": null,
   "id": "a7dff632-bc6c-4157-b3f9-6e8fd28f8d19",
   "metadata": {},
   "outputs": [],
   "source": [
    "delta_h"
   ]
  },
  {
   "cell_type": "code",
   "execution_count": null,
   "id": "15e21411-ab97-415e-bef3-f4b42582927f",
   "metadata": {},
   "outputs": [],
   "source": []
  },
  {
   "cell_type": "code",
   "execution_count": null,
   "id": "6d758225-dbb0-418d-9663-3bc74463de22",
   "metadata": {},
   "outputs": [],
   "source": []
  },
  {
   "cell_type": "code",
   "execution_count": null,
   "id": "91ccffd8-9677-49de-9126-b562205c4968",
   "metadata": {},
   "outputs": [],
   "source": []
  },
  {
   "cell_type": "code",
   "execution_count": null,
   "id": "6119078f-e1db-4cba-a47b-c5eb3a19e375",
   "metadata": {},
   "outputs": [],
   "source": [
    "aaa = np.array([1,2,3])\n",
    "b = np.insert(arr=aaa, obj=0, values=9.0)"
   ]
  },
  {
   "cell_type": "code",
   "execution_count": null,
   "id": "af6ff8b9-0795-4c37-9104-a9fedb2a7c39",
   "metadata": {},
   "outputs": [],
   "source": [
    "b"
   ]
  },
  {
   "cell_type": "code",
   "execution_count": null,
   "id": "e6a7bedc-c0fb-4df5-9bfa-28b2aacfc2b2",
   "metadata": {},
   "outputs": [],
   "source": []
  },
  {
   "cell_type": "code",
   "execution_count": null,
   "id": "9490c24c-9a30-438e-a418-66a22714a62a",
   "metadata": {},
   "outputs": [],
   "source": []
  }
 ],
 "metadata": {
  "kernelspec": {
   "display_name": "Python 3 (ipykernel)",
   "language": "python",
   "name": "python3"
  },
  "language_info": {
   "codemirror_mode": {
    "name": "ipython",
    "version": 3
   },
   "file_extension": ".py",
   "mimetype": "text/x-python",
   "name": "python",
   "nbconvert_exporter": "python",
   "pygments_lexer": "ipython3",
   "version": "3.8.13"
  },
  "toc-autonumbering": true
 },
 "nbformat": 4,
 "nbformat_minor": 5
}
